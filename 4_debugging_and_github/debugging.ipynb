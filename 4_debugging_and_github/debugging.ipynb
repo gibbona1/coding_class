{
 "cells": [
  {
   "cell_type": "code",
   "execution_count": null,
   "metadata": {},
   "outputs": [],
   "source": [
    "odds = 3720\n",
    "message = \"Sir, the odds of successfully navigating an asteroid field are\" + odds + \"to 1!\"\n",
    "print(message)"
   ]
  },
  {
   "cell_type": "code",
   "execution_count": null,
   "metadata": {},
   "outputs": [],
   "source": [
    "print \"May the force be with you!\""
   ]
  },
  {
   "cell_type": "code",
   "execution_count": null,
   "metadata": {},
   "outputs": [],
   "source": [
    "jedi_list = [\"Luke\", \"Yoda\", \"Obi-Wan\"\n",
    "print(jedi_list[2] + \" is a Jedi Master.\")"
   ]
  },
  {
   "cell_type": "code",
   "execution_count": null,
   "metadata": {},
   "outputs": [],
   "source": [
    "planets = [\"Tatooine\", \"Dagobah\", \"Hoth\"]\n",
    "print(planets[3])"
   ]
  },
  {
   "cell_type": "code",
   "execution_count": null,
   "metadata": {},
   "outputs": [],
   "source": [
    "jedis = [\"Luke\", \"Yoda\", \"Obi-Wan\"]\n",
    "names_length = [len(name) for jedi in jedis]\n",
    "print(names_length)"
   ]
  },
  {
   "cell_type": "code",
   "execution_count": null,
   "metadata": {},
   "outputs": [],
   "source": [
    "quote = 'It's a Trap!'\n",
    "print(quote)"
   ]
  },
  {
   "cell_type": "code",
   "execution_count": null,
   "metadata": {},
   "outputs": [],
   "source": [
    "midi_chlorian_count = 15000\n",
    "if midi_chlorian_count > 10000:\n",
    "print(\"Strong with the Force, this one is.\")"
   ]
  },
  {
   "cell_type": "code",
   "execution_count": null,
   "metadata": {},
   "outputs": [],
   "source": [
    "for sith in [\"Darth Vader\", \"Darth Sidious\", \"Darth Maul\"]:\n",
    "    print(sith_name)"
   ]
  },
  {
   "cell_type": "code",
   "execution_count": null,
   "metadata": {},
   "outputs": [],
   "source": [
    "def join_resistance(name, rank):\n",
    "    message = f\"{name} has joined the Resistance as a {rank}.\"\n",
    "\n",
    "result = join_resistance(\"Finn\", \"Commander\")\n",
    "print(result)"
   ]
  },
  {
   "cell_type": "code",
   "execution_count": null,
   "metadata": {},
   "outputs": [],
   "source": [
    "import pandas as pd\n",
    "df = pd.DataFrame({'Name': ['Han Solo', 'Leia Organa'], 'Role': ['Smuggler', 'Princess']})\n",
    "print(df['Age'])"
   ]
  },
  {
   "cell_type": "code",
   "execution_count": null,
   "metadata": {},
   "outputs": [],
   "source": [
    "df.head[]"
   ]
  },
  {
   "cell_type": "code",
   "execution_count": null,
   "metadata": {},
   "outputs": [],
   "source": [
    "data = {'Name': ['Luke', 'Leia', 'Han'], 'Age': [23, None, 32]}\n",
    "df = pd.DataFrame(data)\n",
    "clean_df = df.dropna(axis=1)\n",
    "print(clean_df)"
   ]
  },
  {
   "cell_type": "code",
   "execution_count": null,
   "metadata": {},
   "outputs": [],
   "source": [
    "rebels = ['Luke', 'Leia', 'Han']\n",
    "for rebel in rebels:\n",
    "    print(f\"Rebel: {rebel}\")\n",
    "\n",
    "planets = ['Tatooine', 'Alderaan', 'Hoth']\n",
    "for planet in planets:\n",
    "    print(f\"Planet: {rebel}\")"
   ]
  },
  {
   "cell_type": "code",
   "execution_count": null,
   "metadata": {},
   "outputs": [],
   "source": []
  }
 ],
 "metadata": {
  "kernelspec": {
   "display_name": "Python 3",
   "language": "python",
   "name": "python3"
  },
  "language_info": {
   "codemirror_mode": {
    "name": "ipython",
    "version": 3
   },
   "file_extension": ".py",
   "mimetype": "text/x-python",
   "name": "python",
   "nbconvert_exporter": "python",
   "pygments_lexer": "ipython3",
   "version": "3.11.9"
  }
 },
 "nbformat": 4,
 "nbformat_minor": 2
}
