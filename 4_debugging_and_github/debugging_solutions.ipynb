{
 "cells": [
  {
   "cell_type": "markdown",
   "metadata": {},
   "source": [
    "# Debugging common errors in Python\n",
    "\n",
    "For each of the cells below, first examine the few lines of code and predict what output or error you'd get if you ran it.\n",
    "\n",
    "Then run the lines in a seperate python script and compare what you thought would happen with what actually happened.\n",
    "\n",
    "Fix the code and show the output."
   ]
  },
  {
   "cell_type": "code",
   "execution_count": 1,
   "metadata": {},
   "outputs": [
    {
     "name": "stdout",
     "output_type": "stream",
     "text": [
      "Sir, the odds of successfully navigating an asteroid field are 3720 to 1!\n"
     ]
    }
   ],
   "source": [
    "odds = 3720\n",
    "message = \"Sir, the odds of successfully navigating an asteroid field are \" + str(odds) + \" to 1!\"\n",
    "print(message)"
   ]
  },
  {
   "cell_type": "code",
   "execution_count": 2,
   "metadata": {},
   "outputs": [
    {
     "name": "stdout",
     "output_type": "stream",
     "text": [
      "May the force be with you!\n"
     ]
    }
   ],
   "source": [
    "print(\"May the force be with you!\")"
   ]
  },
  {
   "cell_type": "code",
   "execution_count": 3,
   "metadata": {},
   "outputs": [
    {
     "name": "stdout",
     "output_type": "stream",
     "text": [
      "Obi-Wan is a Jedi Master.\n"
     ]
    }
   ],
   "source": [
    "jedi_list = [\"Luke\", \"Yoda\", \"Obi-Wan\"]\n",
    "print(jedi_list[2] + \" is a Jedi Master.\")"
   ]
  },
  {
   "cell_type": "code",
   "execution_count": 4,
   "metadata": {},
   "outputs": [
    {
     "name": "stdout",
     "output_type": "stream",
     "text": [
      "Hoth\n"
     ]
    }
   ],
   "source": [
    "planets = [\"Tatooine\", \"Dagobah\", \"Hoth\"]\n",
    "print(planets[-1])"
   ]
  },
  {
   "cell_type": "code",
   "execution_count": 5,
   "metadata": {},
   "outputs": [
    {
     "name": "stdout",
     "output_type": "stream",
     "text": [
      "[4, 4, 7]\n"
     ]
    }
   ],
   "source": [
    "jedis = [\"Luke\", \"Yoda\", \"Obi-Wan\"]\n",
    "names_length = [len(jedi) for jedi in jedis]\n",
    "print(names_length)"
   ]
  },
  {
   "cell_type": "code",
   "execution_count": 6,
   "metadata": {},
   "outputs": [
    {
     "name": "stdout",
     "output_type": "stream",
     "text": [
      "It's a Trap!\n"
     ]
    }
   ],
   "source": [
    "quote = 'It\\'s a Trap!'\n",
    "print(quote)"
   ]
  },
  {
   "cell_type": "code",
   "execution_count": 7,
   "metadata": {},
   "outputs": [
    {
     "name": "stdout",
     "output_type": "stream",
     "text": [
      "Strong with the Force, this one is.\n"
     ]
    }
   ],
   "source": [
    "midi_chlorian_count = 15000\n",
    "if midi_chlorian_count > 10000:\n",
    "    print(\"Strong with the Force, this one is.\")"
   ]
  },
  {
   "cell_type": "code",
   "execution_count": 8,
   "metadata": {},
   "outputs": [
    {
     "name": "stdout",
     "output_type": "stream",
     "text": [
      "Darth Vader\n",
      "Darth Sidious\n",
      "Darth Maul\n"
     ]
    }
   ],
   "source": [
    "for sith in [\"Darth Vader\", \"Darth Sidious\", \"Darth Maul\"]:\n",
    "    print(sith)"
   ]
  },
  {
   "cell_type": "code",
   "execution_count": 9,
   "metadata": {},
   "outputs": [
    {
     "name": "stdout",
     "output_type": "stream",
     "text": [
      "Finn has joined the Resistance as a Commander.\n"
     ]
    }
   ],
   "source": [
    "def join_resistance(name, rank):\n",
    "    message = f\"{name} has joined the Resistance as a {rank}.\"\n",
    "    return message\n",
    "\n",
    "result = join_resistance(\"Finn\", \"Commander\")\n",
    "print(result)"
   ]
  },
  {
   "cell_type": "code",
   "execution_count": 10,
   "metadata": {},
   "outputs": [
    {
     "name": "stdout",
     "output_type": "stream",
     "text": [
      "0    33\n",
      "1    32\n",
      "Name: Age, dtype: object\n"
     ]
    }
   ],
   "source": [
    "import pandas as pd\n",
    "df = pd.DataFrame({'Name': ['Han Solo', 'Leia Organa'], 'Role': ['Smuggler', 'Princess'], 'Age': ['33', '32']})\n",
    "print(df['Age'])"
   ]
  },
  {
   "cell_type": "code",
   "execution_count": 11,
   "metadata": {},
   "outputs": [
    {
     "data": {
      "text/html": [
       "<div>\n",
       "<style scoped>\n",
       "    .dataframe tbody tr th:only-of-type {\n",
       "        vertical-align: middle;\n",
       "    }\n",
       "\n",
       "    .dataframe tbody tr th {\n",
       "        vertical-align: top;\n",
       "    }\n",
       "\n",
       "    .dataframe thead th {\n",
       "        text-align: right;\n",
       "    }\n",
       "</style>\n",
       "<table border=\"1\" class=\"dataframe\">\n",
       "  <thead>\n",
       "    <tr style=\"text-align: right;\">\n",
       "      <th></th>\n",
       "      <th>Name</th>\n",
       "      <th>Role</th>\n",
       "      <th>Age</th>\n",
       "    </tr>\n",
       "  </thead>\n",
       "  <tbody>\n",
       "    <tr>\n",
       "      <th>0</th>\n",
       "      <td>Han Solo</td>\n",
       "      <td>Smuggler</td>\n",
       "      <td>33</td>\n",
       "    </tr>\n",
       "    <tr>\n",
       "      <th>1</th>\n",
       "      <td>Leia Organa</td>\n",
       "      <td>Princess</td>\n",
       "      <td>32</td>\n",
       "    </tr>\n",
       "  </tbody>\n",
       "</table>\n",
       "</div>"
      ],
      "text/plain": [
       "          Name      Role Age\n",
       "0     Han Solo  Smuggler  33\n",
       "1  Leia Organa  Princess  32"
      ]
     },
     "execution_count": 11,
     "metadata": {},
     "output_type": "execute_result"
    }
   ],
   "source": [
    "df.head()"
   ]
  },
  {
   "cell_type": "code",
   "execution_count": 12,
   "metadata": {},
   "outputs": [
    {
     "name": "stdout",
     "output_type": "stream",
     "text": [
      "{'Name': ['Luke', 'Leia', 'Han'], 'Age': [23, None, 32]}\n",
      "\n",
      "   Name   Age\n",
      "0  Luke  23.0\n",
      "1  Leia   NaN\n",
      "2   Han  32.0\n",
      "\n",
      "   Name   Age\n",
      "0  Luke  23.0\n",
      "2   Han  32.0\n"
     ]
    }
   ],
   "source": [
    "#remove row with NA\n",
    "data = {'Name': ['Luke', 'Leia', 'Han'], 'Age': [23, None, 32]}\n",
    "print(data)\n",
    "print()\n",
    "df = pd.DataFrame(data)\n",
    "print(df)\n",
    "print()\n",
    "clean_df = df.dropna()\n",
    "print(clean_df)"
   ]
  },
  {
   "cell_type": "code",
   "execution_count": 13,
   "metadata": {},
   "outputs": [
    {
     "name": "stdout",
     "output_type": "stream",
     "text": [
      "Rebel: Luke\n",
      "Rebel: Leia\n",
      "Rebel: Han\n",
      "\n",
      "Planet: Tatooine\n",
      "Planet: Alderaan\n",
      "Planet: Hoth\n"
     ]
    }
   ],
   "source": [
    "rebels = ['Luke', 'Leia', 'Han']\n",
    "for rebel in rebels:\n",
    "    print(f\"Rebel: {rebel}\")\n",
    "print()\n",
    "planets = ['Tatooine', 'Alderaan', 'Hoth']\n",
    "for planet in planets:\n",
    "    print(f\"Planet: {planet}\")"
   ]
  },
  {
   "cell_type": "code",
   "execution_count": 14,
   "metadata": {},
   "outputs": [
    {
     "name": "stdout",
     "output_type": "stream",
     "text": [
      "We are watching Star Wars episode 1.\n",
      "Rogue One is a Star Wars story.\n",
      "Solo is a Star Wars story.\n",
      "Are we still watching Star Wars episode 1?\n",
      "\n",
      "We are watching Star Wars episode 2.\n",
      "Rogue One is a Star Wars story.\n",
      "Solo is a Star Wars story.\n",
      "Are we still watching Star Wars episode 2?\n",
      "\n",
      "We are watching Star Wars episode 3.\n",
      "Rogue One is a Star Wars story.\n",
      "Solo is a Star Wars story.\n",
      "Are we still watching Star Wars episode 3?\n",
      "\n",
      "We are watching Star Wars episode 4.\n",
      "Rogue One is a Star Wars story.\n",
      "Solo is a Star Wars story.\n",
      "Are we still watching Star Wars episode 4?\n",
      "\n",
      "We are watching Star Wars episode 5.\n",
      "Rogue One is a Star Wars story.\n",
      "Solo is a Star Wars story.\n",
      "Are we still watching Star Wars episode 5?\n",
      "\n",
      "We are watching Star Wars episode 6.\n",
      "Rogue One is a Star Wars story.\n",
      "Solo is a Star Wars story.\n",
      "Are we still watching Star Wars episode 6?\n",
      "\n"
     ]
    }
   ],
   "source": [
    "for episode in range(1, 7):\n",
    "    print(f'We are watching Star Wars episode {episode}.')\n",
    "    anthology = ['Rogue One', 'Solo']\n",
    "    for spinoff in anthology:\n",
    "        print(f'{spinoff} is a Star Wars story.')\n",
    "    print(f'Are we still watching Star Wars episode {episode}?')\n",
    "    print()"
   ]
  }
 ],
 "metadata": {
  "kernelspec": {
   "display_name": "Python 3",
   "language": "python",
   "name": "python3"
  },
  "language_info": {
   "codemirror_mode": {
    "name": "ipython",
    "version": 3
   },
   "file_extension": ".py",
   "mimetype": "text/x-python",
   "name": "python",
   "nbconvert_exporter": "python",
   "pygments_lexer": "ipython3",
   "version": "3.11.9"
  }
 },
 "nbformat": 4,
 "nbformat_minor": 2
}
