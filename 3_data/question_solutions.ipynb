{
 "cells": [
  {
   "cell_type": "code",
   "execution_count": 1,
   "metadata": {},
   "outputs": [],
   "source": [
    "import pandas as pd\n",
    "df = pd.read_csv('movie_data.csv')"
   ]
  },
  {
   "cell_type": "code",
   "execution_count": 2,
   "metadata": {},
   "outputs": [
    {
     "data": {
      "text/plain": [
       "(5252, 3901)"
      ]
     },
     "execution_count": 2,
     "metadata": {},
     "output_type": "execute_result"
    }
   ],
   "source": [
    "#1\n",
    "movie_df = df[df['Title Type'] == 'Movie']\n",
    "len(df), len(movie_df)"
   ]
  },
  {
   "cell_type": "code",
   "execution_count": 3,
   "metadata": {},
   "outputs": [
    {
     "name": "stdout",
     "output_type": "stream",
     "text": [
      "73\n",
      "474\n"
     ]
    }
   ],
   "source": [
    "#2\n",
    "print(len(movie_df[movie_df['Year']==2024]))\n",
    "print(len(movie_df[(movie_df['Year']>=1990) & (movie_df['Year']<=1999)]))"
   ]
  },
  {
   "cell_type": "code",
   "execution_count": 4,
   "metadata": {},
   "outputs": [
    {
     "data": {
      "text/html": [
       "<div>\n",
       "<style scoped>\n",
       "    .dataframe tbody tr th:only-of-type {\n",
       "        vertical-align: middle;\n",
       "    }\n",
       "\n",
       "    .dataframe tbody tr th {\n",
       "        vertical-align: top;\n",
       "    }\n",
       "\n",
       "    .dataframe thead th {\n",
       "        text-align: right;\n",
       "    }\n",
       "</style>\n",
       "<table border=\"1\" class=\"dataframe\">\n",
       "  <thead>\n",
       "    <tr style=\"text-align: right;\">\n",
       "      <th></th>\n",
       "      <th>Title</th>\n",
       "      <th>Date Rated</th>\n",
       "      <th>Runtime (mins)</th>\n",
       "    </tr>\n",
       "  </thead>\n",
       "  <tbody>\n",
       "    <tr>\n",
       "      <th>141</th>\n",
       "      <td>Kill Bill: The Whole Bloody Affair</td>\n",
       "      <td>2024-05-05</td>\n",
       "      <td>247.0</td>\n",
       "    </tr>\n",
       "  </tbody>\n",
       "</table>\n",
       "</div>"
      ],
      "text/plain": [
       "                                  Title  Date Rated  Runtime (mins)\n",
       "141  Kill Bill: The Whole Bloody Affair  2024-05-05           247.0"
      ]
     },
     "execution_count": 4,
     "metadata": {},
     "output_type": "execute_result"
    }
   ],
   "source": [
    "#3\n",
    "movie_df.sort_values(by=['Runtime (mins)'], ascending = [False]).head(1)[['Title', 'Date Rated', 'Runtime (mins)']]"
   ]
  },
  {
   "cell_type": "code",
   "execution_count": 5,
   "metadata": {},
   "outputs": [
    {
     "data": {
      "text/plain": [
       "(np.float64(6.71991622239147),\n",
       " np.float64(7.06280193236715),\n",
       " np.float64(8.416666666666666))"
      ]
     },
     "execution_count": 5,
     "metadata": {},
     "output_type": "execute_result"
    }
   ],
   "source": [
    "#4\n",
    "df['Your Rating'].mean(), df[df['Title Type'] == 'TV Series']['Your Rating'].mean(), movie_df[movie_df['Directors'] == 'Christopher Nolan']['Your Rating'].mean()"
   ]
  },
  {
   "cell_type": "code",
   "execution_count": 6,
   "metadata": {},
   "outputs": [
    {
     "name": "stdout",
     "output_type": "stream",
     "text": [
      "                                              Title  IMDb Rating\n",
      "4831                       The Shawshank Redemption          9.3\n",
      "5251                                  The Godfather          9.2\n",
      "4830                                   12 Angry Men          9.0\n",
      "4832                                The Dark Knight          9.0\n",
      "5250                               Schindler's List          9.0\n",
      "1392    The Beatles: Get Back - The Rooftop Concert          9.0\n",
      "5248  The Lord of the Rings: The Return of the King          9.0\n"
     ]
    },
    {
     "data": {
      "text/html": [
       "<div>\n",
       "<style scoped>\n",
       "    .dataframe tbody tr th:only-of-type {\n",
       "        vertical-align: middle;\n",
       "    }\n",
       "\n",
       "    .dataframe tbody tr th {\n",
       "        vertical-align: top;\n",
       "    }\n",
       "\n",
       "    .dataframe thead th {\n",
       "        text-align: right;\n",
       "    }\n",
       "</style>\n",
       "<table border=\"1\" class=\"dataframe\">\n",
       "  <thead>\n",
       "    <tr style=\"text-align: right;\">\n",
       "      <th></th>\n",
       "      <th>Title</th>\n",
       "      <th>IMDb Rating</th>\n",
       "      <th>Num Votes</th>\n",
       "    </tr>\n",
       "  </thead>\n",
       "  <tbody>\n",
       "    <tr>\n",
       "      <th>4831</th>\n",
       "      <td>The Shawshank Redemption</td>\n",
       "      <td>9.3</td>\n",
       "      <td>2909221</td>\n",
       "    </tr>\n",
       "  </tbody>\n",
       "</table>\n",
       "</div>"
      ],
      "text/plain": [
       "                         Title  IMDb Rating  Num Votes\n",
       "4831  The Shawshank Redemption          9.3    2909221"
      ]
     },
     "execution_count": 6,
     "metadata": {},
     "output_type": "execute_result"
    }
   ],
   "source": [
    "#5\n",
    "print(movie_df.sort_values(by = ['IMDb Rating'], ascending = [False]).head(7)[['Title', 'IMDb Rating']])\n",
    "movie_df.sort_values(by = ['Num Votes'], ascending = [False]).head(1)[['Title', 'IMDb Rating', 'Num Votes']]"
   ]
  },
  {
   "cell_type": "code",
   "execution_count": 7,
   "metadata": {},
   "outputs": [
    {
     "data": {
      "text/plain": [
       "199"
      ]
     },
     "execution_count": 7,
     "metadata": {},
     "output_type": "execute_result"
    }
   ],
   "source": [
    "#6\n",
    "len(movie_df[(movie_df['Date Rated'] >= '2019-01-01') & (movie_df['Date Rated'] <= '2019-12-31')])"
   ]
  },
  {
   "cell_type": "code",
   "execution_count": 8,
   "metadata": {},
   "outputs": [
    {
     "data": {
      "text/plain": [
       "(5, 4)"
      ]
     },
     "execution_count": 8,
     "metadata": {},
     "output_type": "execute_result"
    }
   ],
   "source": [
    "#7\n",
    "danny_df = movie_df[movie_df['Directors'].str.contains('Danny Boyle') & ((movie_df['Date Rated'] >= '2023-01-01') & (movie_df['Date Rated'] <= '2023-12-31'))]\n",
    "len(danny_df), len(danny_df[danny_df['Runtime (mins)'] >= 100])"
   ]
  },
  {
   "cell_type": "code",
   "execution_count": 9,
   "metadata": {},
   "outputs": [
    {
     "data": {
      "text/html": [
       "<div>\n",
       "<style scoped>\n",
       "    .dataframe tbody tr th:only-of-type {\n",
       "        vertical-align: middle;\n",
       "    }\n",
       "\n",
       "    .dataframe tbody tr th {\n",
       "        vertical-align: top;\n",
       "    }\n",
       "\n",
       "    .dataframe thead th {\n",
       "        text-align: right;\n",
       "    }\n",
       "</style>\n",
       "<table border=\"1\" class=\"dataframe\">\n",
       "  <thead>\n",
       "    <tr style=\"text-align: right;\">\n",
       "      <th></th>\n",
       "      <th>Title</th>\n",
       "      <th>IMDb Rating</th>\n",
       "      <th>Your Rating</th>\n",
       "      <th>Directors</th>\n",
       "    </tr>\n",
       "  </thead>\n",
       "  <tbody>\n",
       "    <tr>\n",
       "      <th>613</th>\n",
       "      <td>Tokyo Story</td>\n",
       "      <td>8.1</td>\n",
       "      <td>9</td>\n",
       "      <td>Yasujirô Ozu</td>\n",
       "    </tr>\n",
       "  </tbody>\n",
       "</table>\n",
       "</div>"
      ],
      "text/plain": [
       "           Title  IMDb Rating  Your Rating     Directors\n",
       "613  Tokyo Story          8.1            9  Yasujirô Ozu"
      ]
     },
     "execution_count": 9,
     "metadata": {},
     "output_type": "execute_result"
    }
   ],
   "source": [
    "#8\n",
    "otheryear_df = movie_df[(movie_df['Year'] != 2023) & (movie_df['Date Rated'] >= '2023-01-01') & (movie_df['Date Rated'] <= '2023-12-31')]\n",
    "otheryear_df.sort_values(by = ['Your Rating'], ascending = [False]).head(1)[['Title', 'IMDb Rating', 'Your Rating', 'Directors']]"
   ]
  },
  {
   "cell_type": "code",
   "execution_count": 10,
   "metadata": {},
   "outputs": [
    {
     "data": {
      "text/html": [
       "<div>\n",
       "<style scoped>\n",
       "    .dataframe tbody tr th:only-of-type {\n",
       "        vertical-align: middle;\n",
       "    }\n",
       "\n",
       "    .dataframe tbody tr th {\n",
       "        vertical-align: top;\n",
       "    }\n",
       "\n",
       "    .dataframe thead th {\n",
       "        text-align: right;\n",
       "    }\n",
       "</style>\n",
       "<table border=\"1\" class=\"dataframe\">\n",
       "  <thead>\n",
       "    <tr style=\"text-align: right;\">\n",
       "      <th></th>\n",
       "      <th>IMDb Rating</th>\n",
       "      <th>Your Rating</th>\n",
       "      <th>Title</th>\n",
       "      <th>Num Votes</th>\n",
       "    </tr>\n",
       "    <tr>\n",
       "      <th>Directors</th>\n",
       "      <th></th>\n",
       "      <th></th>\n",
       "      <th></th>\n",
       "      <th></th>\n",
       "    </tr>\n",
       "  </thead>\n",
       "  <tbody>\n",
       "    <tr>\n",
       "      <th>Céline Sciamma</th>\n",
       "      <td>7.320000</td>\n",
       "      <td>7.800000</td>\n",
       "      <td>Petite Maman</td>\n",
       "      <td>174929</td>\n",
       "    </tr>\n",
       "    <tr>\n",
       "      <th>Denis Villeneuve</th>\n",
       "      <td>7.788889</td>\n",
       "      <td>8.111111</td>\n",
       "      <td>Dune: Part Two</td>\n",
       "      <td>4514073</td>\n",
       "    </tr>\n",
       "    <tr>\n",
       "      <th>Yasujirô Ozu</th>\n",
       "      <td>7.816667</td>\n",
       "      <td>7.333333</td>\n",
       "      <td>Woman of Tokyo</td>\n",
       "      <td>98865</td>\n",
       "    </tr>\n",
       "  </tbody>\n",
       "</table>\n",
       "</div>"
      ],
      "text/plain": [
       "                  IMDb Rating  Your Rating           Title  Num Votes\n",
       "Directors                                                            \n",
       "Céline Sciamma       7.320000     7.800000    Petite Maman     174929\n",
       "Denis Villeneuve     7.788889     8.111111  Dune: Part Two    4514073\n",
       "Yasujirô Ozu         7.816667     7.333333  Woman of Tokyo      98865"
      ]
     },
     "execution_count": 10,
     "metadata": {},
     "output_type": "execute_result"
    }
   ],
   "source": [
    "#9\n",
    "dir_df = movie_df[(movie_df['Directors']=='Denis Villeneuve')| \n",
    "                  (movie_df['Directors']=='Céline Sciamma') | \n",
    "                  (movie_df['Directors']=='Yasujirô Ozu')].sort_values(by = ['Year'], ascending = [False])\n",
    "\n",
    "dir_df.groupby('Directors').agg({'IMDb Rating': 'mean', 'Your Rating': 'mean', 'Title': lambda x: x.iloc[0], 'Num Votes': 'sum'})"
   ]
  }
 ],
 "metadata": {
  "kernelspec": {
   "display_name": "Python 3",
   "language": "python",
   "name": "python3"
  },
  "language_info": {
   "codemirror_mode": {
    "name": "ipython",
    "version": 3
   },
   "file_extension": ".py",
   "mimetype": "text/x-python",
   "name": "python",
   "nbconvert_exporter": "python",
   "pygments_lexer": "ipython3",
   "version": "3.11.9"
  }
 },
 "nbformat": 4,
 "nbformat_minor": 2
}
